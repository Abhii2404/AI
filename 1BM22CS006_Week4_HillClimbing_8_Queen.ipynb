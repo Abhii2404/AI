{
  "nbformat": 4,
  "nbformat_minor": 0,
  "metadata": {
    "colab": {
      "provenance": [],
      "authorship_tag": "ABX9TyNqthWpNcFIz/WxTLLdWA+3",
      "include_colab_link": true
    },
    "kernelspec": {
      "name": "python3",
      "display_name": "Python 3"
    },
    "language_info": {
      "name": "python"
    }
  },
  "cells": [
    {
      "cell_type": "markdown",
      "metadata": {
        "id": "view-in-github",
        "colab_type": "text"
      },
      "source": [
        "<a href=\"https://colab.research.google.com/github/Abhii2404/AI/blob/main/1BM22CS006_Week4_HillClimbing_8_Queen.ipynb\" target=\"_parent\"><img src=\"https://colab.research.google.com/assets/colab-badge.svg\" alt=\"Open In Colab\"/></a>"
      ]
    },
    {
      "cell_type": "code",
      "execution_count": 2,
      "metadata": {
        "colab": {
          "base_uri": "https://localhost:8080/"
        },
        "id": "ENVT7AA6facp",
        "outputId": "7cd88d39-1f6f-4d9e-bc2c-e0805497234a"
      },
      "outputs": [
        {
          "output_type": "stream",
          "name": "stdout",
          "text": [
            "Enter initial state as 8 space-separated integers (0 to 7): 2 6 1 7 0 3 5 4\n",
            "\n",
            "Iteration 0\n",
            "Current State: [2, 6, 1, 7, 0, 3, 5, 4], Cost: 2\n",
            "Neighbour: [6, 2, 1, 7, 0, 3, 5, 4], Cost: 3\n",
            "Neighbour: [1, 6, 2, 7, 0, 3, 5, 4], Cost: 2\n",
            "Neighbour: [7, 6, 1, 2, 0, 3, 5, 4], Cost: 5\n",
            "Neighbour: [0, 6, 1, 7, 2, 3, 5, 4], Cost: 3\n",
            "Neighbour: [3, 6, 1, 7, 0, 2, 5, 4], Cost: 5\n",
            "Neighbour: [5, 6, 1, 7, 0, 3, 2, 4], Cost: 3\n",
            "Neighbour: [4, 6, 1, 7, 0, 3, 5, 2], Cost: 3\n",
            "Neighbour: [2, 1, 6, 7, 0, 3, 5, 4], Cost: 4\n",
            "Neighbour: [2, 7, 1, 6, 0, 3, 5, 4], Cost: 3\n",
            "Neighbour: [2, 0, 1, 7, 6, 3, 5, 4], Cost: 6\n",
            "Neighbour: [2, 3, 1, 7, 0, 6, 5, 4], Cost: 6\n",
            "Neighbour: [2, 5, 1, 7, 0, 3, 6, 4], Cost: 1\n",
            "Neighbour: [2, 4, 1, 7, 0, 3, 5, 6], Cost: 3\n",
            "Neighbour: [2, 6, 7, 1, 0, 3, 5, 4], Cost: 4\n",
            "Neighbour: [2, 6, 0, 7, 1, 3, 5, 4], Cost: 4\n",
            "Neighbour: [2, 6, 3, 7, 0, 1, 5, 4], Cost: 2\n",
            "Neighbour: [2, 6, 5, 7, 0, 3, 1, 4], Cost: 3\n",
            "Neighbour: [2, 6, 4, 7, 0, 3, 5, 1], Cost: 2\n",
            "Neighbour: [2, 6, 1, 0, 7, 3, 5, 4], Cost: 6\n",
            "Neighbour: [2, 6, 1, 3, 0, 7, 5, 4], Cost: 3\n",
            "Neighbour: [2, 6, 1, 5, 0, 3, 7, 4], Cost: 2\n",
            "Neighbour: [2, 6, 1, 4, 0, 3, 5, 7], Cost: 2\n",
            "Neighbour: [2, 6, 1, 7, 3, 0, 5, 4], Cost: 5\n",
            "Neighbour: [2, 6, 1, 7, 5, 3, 0, 4], Cost: 0\n",
            "Neighbour: [2, 6, 1, 7, 4, 3, 5, 0], Cost: 3\n",
            "Neighbour: [2, 6, 1, 7, 0, 5, 3, 4], Cost: 2\n",
            "Neighbour: [2, 6, 1, 7, 0, 4, 5, 3], Cost: 5\n",
            "Neighbour: [2, 6, 1, 7, 0, 3, 4, 5], Cost: 4\n",
            "\n",
            "Final Results\n",
            "Initial State: [2, 6, 1, 7, 0, 3, 5, 4]\n",
            "Final State (Solution): [2, 6, 1, 7, 5, 3, 0, 4]\n",
            "Final Cost (Attacking Pairs): 0\n",
            "Solution found!\n"
          ]
        }
      ],
      "source": [
        "N = 8  # Number of queens and the size of the board (8x8)\n",
        "\n",
        "# Cost function: counts the number of attacking pairs of queens.\n",
        "def calculateCost(state):\n",
        "    attacking_pairs = 0\n",
        "    for i in range(N):\n",
        "        for j in range(i + 1, N):\n",
        "            if state[i] == state[j] or abs(state[i] - state[j]) == abs(i - j):\n",
        "                attacking_pairs += 1\n",
        "    return attacking_pairs\n",
        "\n",
        "# Generate neighbors by swapping two queens in different rows.\n",
        "def getNeighbours(state):\n",
        "    neighbours = []\n",
        "    for i in range(N):\n",
        "        for j in range(i + 1, N):\n",
        "            new_state = state[:]\n",
        "            new_state[i], new_state[j] = new_state[j], new_state[i]\n",
        "            neighbours.append(new_state)\n",
        "    return neighbours\n",
        "\n",
        "# Hill climbing algorithm\n",
        "def hillClimbing(initial_state):\n",
        "    current_state = initial_state\n",
        "    current_cost = calculateCost(current_state)\n",
        "\n",
        "    iteration = 0\n",
        "    while True:\n",
        "        print(f\"\\nIteration {iteration}\")\n",
        "        print(f\"Current State: {current_state}, Cost: {current_cost}\")\n",
        "\n",
        "        neighbours = getNeighbours(current_state)\n",
        "        next_state = current_state\n",
        "        next_cost = current_cost\n",
        "\n",
        "        # Evaluate each neighbor and print their costs\n",
        "        for neighbour in neighbours:\n",
        "            cost = calculateCost(neighbour)\n",
        "            print(f\"Neighbour: {neighbour}, Cost: {cost}\")\n",
        "            if cost < next_cost:\n",
        "                next_state = neighbour\n",
        "                next_cost = cost\n",
        "\n",
        "        # Check if we have reached a local minimum or found a solution\n",
        "        if next_cost == current_cost:\n",
        "            break  # Local optimum reached\n",
        "        else:\n",
        "            current_state, current_cost = next_state, next_cost\n",
        "\n",
        "        # Goal state found if no queens are attacking each other\n",
        "        if current_cost == 0:\n",
        "            break\n",
        "\n",
        "        iteration += 1\n",
        "\n",
        "    return current_state, current_cost\n",
        "\n",
        "# Main execution\n",
        "initial_state = list(map(int, input(\"Enter initial state as 8 space-separated integers (0 to 7): \").split()))\n",
        "solution_state, solution_cost = hillClimbing(initial_state)\n",
        "\n",
        "# Print final results\n",
        "print(\"\\nFinal Results\")\n",
        "print(\"Initial State:\", initial_state)\n",
        "print(\"Final State (Solution):\", solution_state)\n",
        "print(\"Final Cost (Attacking Pairs):\", solution_cost)\n",
        "\n",
        "if solution_cost == 0:\n",
        "    print(\"Solution found!\")\n",
        "else:\n",
        "    print(\"Local optimum reached, but no solution.\")"
      ]
    },
    {
      "cell_type": "code",
      "source": [],
      "metadata": {
        "id": "edPcfHiTfzcP"
      },
      "execution_count": null,
      "outputs": []
    }
  ]
}
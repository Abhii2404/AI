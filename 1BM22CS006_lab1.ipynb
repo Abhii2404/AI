{
  "nbformat": 4,
  "nbformat_minor": 0,
  "metadata": {
    "colab": {
      "provenance": [],
      "authorship_tag": "ABX9TyPfVYAoKN3ok57G8z6btZMy",
      "include_colab_link": true
    },
    "kernelspec": {
      "name": "python3",
      "display_name": "Python 3"
    },
    "language_info": {
      "name": "python"
    }
  },
  "cells": [
    {
      "cell_type": "markdown",
      "metadata": {
        "id": "view-in-github",
        "colab_type": "text"
      },
      "source": [
        "<a href=\"https://colab.research.google.com/github/Abhii2404/AI/blob/main/1BM22CS006_lab1.ipynb\" target=\"_parent\"><img src=\"https://colab.research.google.com/assets/colab-badge.svg\" alt=\"Open In Colab\"/></a>"
      ]
    },
    {
      "cell_type": "code",
      "source": [
        "from IPython import get_ipython\n",
        "from IPython.display import display\n",
        "# %%\n",
        "import random\n",
        "\n",
        "def create_board():\n",
        "  return [[\" \" for _ in range(3)] for _ in range(3)]\n",
        "\n",
        "def print_board(board):\n",
        "  for row in board:\n",
        "    print(\"|\".join(row))\n",
        "    print(\"-----\")\n",
        "\n",
        "def get_player_move(board):\n",
        "  while True:\n",
        "    try:\n",
        "      row, col = map(int, input(\"Enter your move (row, col): \").split(\",\"))\n",
        "      if 0 <= row <= 2 and 0 <= col <= 2 and board[row][col] == \" \":\n",
        "        return row, col\n",
        "      else:\n",
        "        print(\"Invalid move. Try again.\")\n",
        "    except ValueError:\n",
        "      print(\"Invalid input. Please enter two numbers separated by a comma.\")\n",
        "\n",
        "def get_computer_move(board):\n",
        "  available_moves = [(i, j) for i in range(3) for j in range(3) if board[i][j] == \" \"]\n",
        "  return random.choice(available_moves)\n",
        "\n",
        "def check_win(board, player):\n",
        "  for i in range(3):\n",
        "    if all(board[i][j] == player for j in range(3)) or all(board[j][i] == player for j in range(3)):\n",
        "      return True\n",
        "  if (board[0][0] == player and board[1][1] == player and board[2][2] == player) or \\\n",
        "     (board[0][2] == player and board[1][1] == player and board[2][0] == player):\n",
        "    return True\n",
        "  return False\n",
        "\n",
        "def check_draw(board):\n",
        "  for row in board:\n",
        "    for cell in row:\n",
        "      if cell == \" \":\n",
        "        return False\n",
        "  return True\n",
        "\n",
        "def play_tic_tac_toe():\n",
        "  board = create_board()\n",
        "  current_player = \"X\"\n",
        "\n",
        "  while True:\n",
        "    print_board(board)\n",
        "    if current_player == \"X\":\n",
        "      row, col = get_player_move(board)\n",
        "    else:\n",
        "      row, col = get_computer_move(board)\n",
        "      print(f\"Computer played: {row}, {col}\")\n",
        "    board[row][col] = current_player\n",
        "\n",
        "    if check_win(board, current_player):\n",
        "      print_board(board)\n",
        "      print(f\"Player {current_player} wins!\")\n",
        "      break\n",
        "\n",
        "    if check_draw(board):\n",
        "      print_board(board)\n",
        "      print(\"It's a draw!\")\n",
        "      break\n",
        "\n",
        "    current_player = \"O\" if current_player == \"X\" else \"X\"\n",
        "\n",
        "play_tic_tac_toe()\n",
        "\n",
        "# %%"
      ],
      "metadata": {
        "colab": {
          "base_uri": "https://localhost:8080/"
        },
        "id": "DEpJws7sOBdw",
        "outputId": "ef624182-1688-474f-ae91-79067e520916"
      },
      "execution_count": 3,
      "outputs": [
        {
          "output_type": "stream",
          "name": "stdout",
          "text": [
            " | | \n",
            "-----\n",
            " | | \n",
            "-----\n",
            " | | \n",
            "-----\n",
            "Enter your move (row, col): 1,2\n",
            " | | \n",
            "-----\n",
            " | |X\n",
            "-----\n",
            " | | \n",
            "-----\n",
            "Computer played: 2, 1\n",
            " | | \n",
            "-----\n",
            " | |X\n",
            "-----\n",
            " |O| \n",
            "-----\n",
            "Enter your move (row, col): 1,1\n",
            " | | \n",
            "-----\n",
            " |X|X\n",
            "-----\n",
            " |O| \n",
            "-----\n",
            "Computer played: 1, 0\n",
            " | | \n",
            "-----\n",
            "O|X|X\n",
            "-----\n",
            " |O| \n",
            "-----\n",
            "Enter your move (row, col): 2,2\n",
            " | | \n",
            "-----\n",
            "O|X|X\n",
            "-----\n",
            " |O|X\n",
            "-----\n",
            "Computer played: 0, 2\n",
            " | |O\n",
            "-----\n",
            "O|X|X\n",
            "-----\n",
            " |O|X\n",
            "-----\n",
            "Enter your move (row, col): 0,0\n",
            "X| |O\n",
            "-----\n",
            "O|X|X\n",
            "-----\n",
            " |O|X\n",
            "-----\n",
            "Player X wins!\n"
          ]
        }
      ]
    },
    {
      "cell_type": "code",
      "source": [
        "def vacuum_cleaner(room_a, room_b):\n",
        "  location = 'A'\n",
        "  while True:\n",
        "    if location == 'A':\n",
        "      if room_a == \"dirty\":\n",
        "        print(\"Room A is dirty. Cleaning...\")\n",
        "        room_a = \"clean\"\n",
        "      else:\n",
        "        print(\"Room A is clean. Moving to room B.\")\n",
        "        location = 'B'\n",
        "    elif location == 'B':\n",
        "      if room_b == \"dirty\":\n",
        "        print(\"Room B is dirty. Cleaning...\")\n",
        "        room_b = \"clean\"\n",
        "      else:\n",
        "        print(\"Room B is clean. Moving to room A.\")\n",
        "        location = 'A'\n",
        "    if room_a == 'clean' and room_b == 'clean':\n",
        "      print(\"Both rooms are clean. Exiting.\")\n",
        "      break\n",
        "\n",
        "vacuum_cleaner(\"dirty\", \"clean\")"
      ],
      "metadata": {
        "colab": {
          "base_uri": "https://localhost:8080/"
        },
        "id": "C5o2VQu_R-XO",
        "outputId": "2c8a6643-1667-469c-bc73-d5b7bee95227"
      },
      "execution_count": 22,
      "outputs": [
        {
          "output_type": "stream",
          "name": "stdout",
          "text": [
            "Room A is dirty. Cleaning...\n",
            "Both rooms are clean. Exiting.\n"
          ]
        }
      ]
    },
    {
      "cell_type": "code",
      "source": [],
      "metadata": {
        "id": "irMnQvzNUPil"
      },
      "execution_count": null,
      "outputs": []
    }
  ]
}
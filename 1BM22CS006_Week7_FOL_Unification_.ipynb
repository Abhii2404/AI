{
  "nbformat": 4,
  "nbformat_minor": 0,
  "metadata": {
    "colab": {
      "provenance": [],
      "authorship_tag": "ABX9TyPsw1faANzeiV+6Qustpi5S",
      "include_colab_link": true
    },
    "kernelspec": {
      "name": "python3",
      "display_name": "Python 3"
    },
    "language_info": {
      "name": "python"
    }
  },
  "cells": [
    {
      "cell_type": "markdown",
      "metadata": {
        "id": "view-in-github",
        "colab_type": "text"
      },
      "source": [
        "<a href=\"https://colab.research.google.com/github/Abhii2404/AI/blob/main/1BM22CS006_Week7_FOL_Unification_.ipynb\" target=\"_parent\"><img src=\"https://colab.research.google.com/assets/colab-badge.svg\" alt=\"Open In Colab\"/></a>"
      ]
    },
    {
      "cell_type": "markdown",
      "source": [],
      "metadata": {
        "id": "IDkSu2LMgfQU"
      }
    },
    {
      "cell_type": "code",
      "source": [
        "def unify(expr1, expr2, subst=None):\n",
        "    if subst is None:\n",
        "        subst = {}\n",
        "\n",
        "    if expr1 == expr2:\n",
        "        return subst\n",
        "    elif isinstance(expr1, str) and expr1.islower():\n",
        "        return unify_var(expr1, expr2, subst)\n",
        "    elif isinstance(expr2, str) and expr2.islower():\n",
        "        return unify_var(expr2, expr1, subst)\n",
        "    elif isinstance(expr1, list) and isinstance(expr2, list) and len(expr1) == len(expr2):\n",
        "        return unify(expr1[1:], expr2[1:], unify(expr1[0], expr2[0], subst))\n",
        "    else:\n",
        "        return None\n",
        "\n",
        "\n",
        "def unify_var(var, x, subst):\n",
        "    if var in subst:\n",
        "        return unify(subst[var], x, subst)\n",
        "    elif x in subst:\n",
        "        return unify(var, subst[x], subst)\n",
        "    elif occurs_check(var, x):\n",
        "        return None\n",
        "    else:\n",
        "        subst[var] = x\n",
        "        return subst\n",
        "\n",
        "\n",
        "def occurs_check(var, x):\n",
        "    if var == x:\n",
        "        return True\n",
        "    elif isinstance(x, list):\n",
        "        return any(occurs_check(var, sub) for sub in x)\n",
        "    return False\n",
        "\n",
        "\n",
        "def get_input_expr(prompt):\n",
        "    # Taking user input for the expression\n",
        "    expr_input = input(prompt)\n",
        "\n",
        "    # Convert the input string to a list (assuming the input is in the form of a Python list)\n",
        "    try:\n",
        "        expr = eval(expr_input)  # eval safely converts a string like \"[Knows, John, x]\" into a list\n",
        "        if isinstance(expr, list):\n",
        "            return expr\n",
        "        else:\n",
        "            print(\"Error: The input is not a valid list.\")\n",
        "            return None\n",
        "    except:\n",
        "        print(\"Error: Invalid input format. Please enter a valid list.\")\n",
        "        return None\n",
        "\n",
        "\n",
        "# Get user input for both expressions\n",
        "expr1 = get_input_expr(\"Enter the first expression (e.g., ['Knows', 'John', 'x']): \")\n",
        "expr2 = get_input_expr(\"Enter the second expression (e.g., ['Knows', 'y', 'Alice']): \")\n",
        "\n",
        "# Perform unification if both expressions are valid\n",
        "if expr1 and expr2:\n",
        "    substitution = unify(expr1, expr2)\n",
        "    if substitution:\n",
        "        print(\"Unification Successful! Substitution:\", substitution)\n",
        "    else:\n",
        "        print(\"Unification Failed!\")\n"
      ],
      "metadata": {
        "colab": {
          "base_uri": "https://localhost:8080/"
        },
        "id": "QBWp6qwIjvLT",
        "outputId": "e80794be-2524-46dd-df77-31fd9e4471fd"
      },
      "execution_count": 14,
      "outputs": [
        {
          "output_type": "stream",
          "name": "stdout",
          "text": [
            "Enter the first expression (e.g., ['Knows', 'John', 'x']): ['b','a','x']\n",
            "Enter the second expression (e.g., ['Knows', 'y', 'Alice']): ['b','d','r']\n",
            "Unification Successful! Substitution: {'a': 'd', 'x': 'r'}\n"
          ]
        }
      ]
    }
  ]
}
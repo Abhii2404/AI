{
  "nbformat": 4,
  "nbformat_minor": 0,
  "metadata": {
    "colab": {
      "provenance": [],
      "authorship_tag": "ABX9TyN5jNn7/0gXifN2VcQXL+Xl",
      "include_colab_link": true
    },
    "kernelspec": {
      "name": "python3",
      "display_name": "Python 3"
    },
    "language_info": {
      "name": "python"
    }
  },
  "cells": [
    {
      "cell_type": "markdown",
      "metadata": {
        "id": "view-in-github",
        "colab_type": "text"
      },
      "source": [
        "<a href=\"https://colab.research.google.com/github/Abhii2404/AI/blob/main/1BM22CS006_Week10_AlphaBeta_Pruning.ipynb\" target=\"_parent\"><img src=\"https://colab.research.google.com/assets/colab-badge.svg\" alt=\"Open In Colab\"/></a>"
      ]
    },
    {
      "cell_type": "code",
      "source": [
        "MAX, MIN = 1000, -1000\n",
        "def minimax(depth, nodeIndex, maximizingPlayer,\n",
        "      values, alpha, beta):\n",
        "\n",
        "\n",
        "  if depth == 3:\n",
        "    return values[nodeIndex]\n",
        "\n",
        "  if maximizingPlayer:\n",
        "\n",
        "    best = MIN\n",
        "\n",
        "\n",
        "    for i in range(0, 2):\n",
        "\n",
        "      val = minimax(depth + 1, nodeIndex * 2 + i,\n",
        "            False, values, alpha, beta)\n",
        "      best = max(best, val)\n",
        "      alpha = max(alpha, best)\n",
        "\n",
        "\n",
        "      if beta <= alpha:\n",
        "        break\n",
        "\n",
        "    return best\n",
        "\n",
        "  else:\n",
        "    best = MAX\n",
        "\n",
        "\n",
        "    for i in range(0, 2):\n",
        "\n",
        "      val = minimax(depth + 1, nodeIndex * 2 + i,\n",
        "              True, values, alpha, beta)\n",
        "      best = min(best, val)\n",
        "      beta = min(beta, best)\n",
        "\n",
        "\n",
        "      if beta <= alpha:\n",
        "        break\n",
        "\n",
        "    return best\n",
        "\n",
        "\n",
        "if __name__ == \"__main__\":\n",
        "\n",
        "  values = [10,9,14,18,5,4,50,3]\n",
        "  print(\"The optimal value is :\", minimax(0, 0, True, values, MIN, MAX))"
      ],
      "metadata": {
        "colab": {
          "base_uri": "https://localhost:8080/"
        },
        "id": "CoPc35ySu7Ya",
        "outputId": "0606bd57-5b98-4c5a-b94d-a421c7027ba5"
      },
      "execution_count": 5,
      "outputs": [
        {
          "output_type": "stream",
          "name": "stdout",
          "text": [
            "The optimal value is : 10\n"
          ]
        }
      ]
    }
  ]
}
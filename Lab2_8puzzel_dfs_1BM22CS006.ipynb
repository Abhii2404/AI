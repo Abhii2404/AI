{
  "nbformat": 4,
  "nbformat_minor": 0,
  "metadata": {
    "colab": {
      "provenance": [],
      "authorship_tag": "ABX9TyORYYIGwasw5Tff/ioP6Bof",
      "include_colab_link": true
    },
    "kernelspec": {
      "name": "python3",
      "display_name": "Python 3"
    },
    "language_info": {
      "name": "python"
    }
  },
  "cells": [
    {
      "cell_type": "markdown",
      "metadata": {
        "id": "view-in-github",
        "colab_type": "text"
      },
      "source": [
        "<a href=\"https://colab.research.google.com/github/Abhii2404/AI/blob/main/Lab2_8puzzel_dfs_1BM22CS006.ipynb\" target=\"_parent\"><img src=\"https://colab.research.google.com/assets/colab-badge.svg\" alt=\"Open In Colab\"/></a>"
      ]
    },
    {
      "cell_type": "code",
      "execution_count": 3,
      "metadata": {
        "colab": {
          "base_uri": "https://localhost:8080/"
        },
        "id": "ZeIsIXlsQkCv",
        "outputId": "6940c45a-30fc-4775-ddca-5f53e040721d"
      },
      "outputs": [
        {
          "output_type": "stream",
          "name": "stdout",
          "text": [
            "Solution found with moves: [(0, 1), (0, 1)]\n"
          ]
        }
      ],
      "source": [
        "class PuzzleState:\n",
        "    def __init__(self, board, zero_pos, moves):\n",
        "        self.board = board\n",
        "        self.zero_pos = zero_pos\n",
        "        self.moves = moves\n",
        "\n",
        "    def __hash__(self):\n",
        "        return hash(tuple(tuple(row) for row in self.board))\n",
        "\n",
        "    def __eq__(self, other):\n",
        "        return self.board == other.board\n",
        "\n",
        "def is_goal_state(board):\n",
        "    goal = [[1, 2, 3], [4, 5, 6], [7, 8, 0]]\n",
        "    return board == goal\n",
        "\n",
        "def get_possible_moves(zero_pos):\n",
        "    moves = []\n",
        "    row, col = zero_pos\n",
        "    if row > 0: moves.append((-1, 0))\n",
        "    if row < 2: moves.append((1, 0))\n",
        "    if col > 0: moves.append((0, -1))\n",
        "    if col < 2: moves.append((0, 1))\n",
        "    return moves\n",
        "\n",
        "def make_move(board, zero_pos, move):\n",
        "    new_board = [row[:] for row in board]\n",
        "    new_zero_pos = (zero_pos[0] + move[0], zero_pos[1] + move[1])\n",
        "\n",
        "    new_board[zero_pos[0]][zero_pos[1]], new_board[new_zero_pos[0]][new_zero_pos[1]] = \\\n",
        "        new_board[new_zero_pos[0]][new_zero_pos[1]], new_board[zero_pos[0]][zero_pos[1]]\n",
        "    return new_board, new_zero_pos\n",
        "\n",
        "def dfs(initial_state):\n",
        "    stack = [initial_state]\n",
        "    visited = set()\n",
        "\n",
        "    while stack:\n",
        "        current_state = stack.pop()\n",
        "        visited.add(current_state)\n",
        "\n",
        "        if is_goal_state(current_state.board):\n",
        "            return current_state.moves\n",
        "\n",
        "        possible_moves = get_possible_moves(current_state.zero_pos)\n",
        "\n",
        "        for move in possible_moves:\n",
        "            new_board, new_zero_pos = make_move(current_state.board, current_state.zero_pos, move)\n",
        "            new_state = PuzzleState(new_board, new_zero_pos, current_state.moves + [move])\n",
        "\n",
        "            if new_state not in visited:\n",
        "                stack.append(new_state)\n",
        "\n",
        "    return None\n",
        "\n",
        "\n",
        "initial_board = [\n",
        "    [1, 2, 3],\n",
        "    [4, 5, 6],\n",
        "    [0, 7, 8]\n",
        "]\n",
        "initial_zero_pos = (2, 0)\n",
        "initial_state = PuzzleState(initial_board, initial_zero_pos, [])\n",
        "\n",
        "solution_moves = dfs(initial_state)\n",
        "\n",
        "if solution_moves is not None:\n",
        "    print(\"Solution found with moves:\", solution_moves)\n",
        "else:\n",
        "    print(\"No solution found.\")"
      ]
    },
    {
      "cell_type": "code",
      "source": [],
      "metadata": {
        "id": "8wYBtacTSWmH"
      },
      "execution_count": null,
      "outputs": []
    }
  ]
}
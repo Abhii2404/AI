{
  "nbformat": 4,
  "nbformat_minor": 0,
  "metadata": {
    "colab": {
      "provenance": [],
      "authorship_tag": "ABX9TyOKw/M3bTxjq9oYYOkZKw6K",
      "include_colab_link": true
    },
    "kernelspec": {
      "name": "python3",
      "display_name": "Python 3"
    },
    "language_info": {
      "name": "python"
    }
  },
  "cells": [
    {
      "cell_type": "markdown",
      "metadata": {
        "id": "view-in-github",
        "colab_type": "text"
      },
      "source": [
        "<a href=\"https://colab.research.google.com/github/Abhii2404/AI/blob/main/1BM22CS006_Week6_PropositionalLogic_TruthTableEnumeration.ipynb\" target=\"_parent\"><img src=\"https://colab.research.google.com/assets/colab-badge.svg\" alt=\"Open In Colab\"/></a>"
      ]
    },
    {
      "cell_type": "code",
      "execution_count": 1,
      "metadata": {
        "colab": {
          "base_uri": "https://localhost:8080/"
        },
        "id": "EkqmQzEgdbi9",
        "outputId": "edf71af8-3dec-415e-a281-d653f74d7835"
      },
      "outputs": [
        {
          "output_type": "stream",
          "name": "stdout",
          "text": [
            "P | Q | R | KB | R -> P | Q -> R\n",
            "------------------------------------\n",
            "True | True | True | False | True | True\n",
            "True | True | False | False | True | False\n",
            "True | False | True | True | True | True\n",
            "True | False | False | False | True | True\n",
            "False | True | True | False | False | True\n",
            "False | True | False | False | True | False\n",
            "False | False | True | True | False | True\n",
            "False | False | False | False | True | True\n",
            "\n",
            "Knowledge Base: (Q -> P) ∧ (P -> ¬Q) ∧ (Q ∨ R)\n",
            "\n",
            "Does KB entail R? -> True\n",
            "Does KB entail R -> P? -> False\n",
            "Does KB entail Q -> R? -> True\n"
          ]
        }
      ],
      "source": [
        "def implies(q, p):\n",
        "    return not q or p\n",
        "\n",
        "def implies_not_q(p, q):\n",
        "    return not p or not q\n",
        "\n",
        "def or_operator(q, r):\n",
        "    return q or r\n",
        "\n",
        "def implies_r_to_p(r, p):\n",
        "    return not r or p\n",
        "\n",
        "def implies_q_to_r(q, r):\n",
        "    return not q or r\n",
        "\n",
        "def knowledge_base(p, q, r):\n",
        "    return implies(q, p) and implies_not_q(p, q) and or_operator(q, r)\n",
        "\n",
        "def check_entailment(kb_results, condition_results):\n",
        "    for kb_result, condition_result in zip(kb_results, condition_results):\n",
        "        if kb_result and not condition_result:\n",
        "            return False\n",
        "    return True\n",
        "\n",
        "results = []\n",
        "kb_results = []\n",
        "r_to_p_results = []\n",
        "q_to_r_results = []\n",
        "\n",
        "for p in [True, False]:\n",
        "    for q in [True, False]:\n",
        "        for r in [True, False]:\n",
        "            kb_result = knowledge_base(p, q, r)\n",
        "            r_to_p_result = implies_r_to_p(r, p)\n",
        "            q_to_r_result = implies_q_to_r(q, r)\n",
        "            results.append([p, q, r, kb_result, r_to_p_result, q_to_r_result])\n",
        "            kb_results.append(kb_result)\n",
        "            r_to_p_results.append(r_to_p_result)\n",
        "            q_to_r_results.append(q_to_r_result)\n",
        "\n",
        "print(\"P | Q | R | KB | R -> P | Q -> R\")\n",
        "print(\"------------------------------------\")\n",
        "for row in results:\n",
        "    print(f\"{row[0]} | {row[1]} | {row[2]} | {row[3]} | {row[4]} | {row[5]}\")\n",
        "\n",
        "print(\"\\nKnowledge Base: (Q -> P) ∧ (P -> ¬Q) ∧ (Q ∨ R)\")\n",
        "\n",
        "print(\"\\nDoes KB entail R? ->\", check_entailment(kb_results, [r for r in [row[2] for row in results]]))\n",
        "print(\"Does KB entail R -> P? ->\", check_entailment(kb_results, r_to_p_results))\n",
        "print(\"Does KB entail Q -> R? ->\", check_entailment(kb_results, q_to_r_results))\n"
      ]
    },
    {
      "cell_type": "code",
      "source": [],
      "metadata": {
        "id": "LWzvhqckfLrN"
      },
      "execution_count": null,
      "outputs": []
    }
  ]
}